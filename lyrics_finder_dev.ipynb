{
 "cells": [
  {
   "cell_type": "code",
   "execution_count": null,
   "metadata": {},
   "outputs": [],
   "source": [
    "\n",
    "\n"
   ]
  },
  {
   "cell_type": "code",
   "execution_count": 3,
   "metadata": {},
   "outputs": [
    {
     "name": "stdout",
     "output_type": "stream",
     "text": [
      "https://maps.google.com/maps%3Fq%3Dsite:https://lyrics.lyricfind.com%2BElton%2BJohn%2BCandle%2Bin%2Bthe%2BWind%26um%3D1%26ie%3DUTF-8&opi=89978449\n"
     ]
    }
   ],
   "source": [
    "import requests\n",
    "from bs4 import BeautifulSoup\n",
    "import webbrowser\n",
    "\n",
    "\n",
    "def find_lyrics_link(website, singer, song):\n",
    "    # Format the query string\n",
    "    query = f\"{singer} {song}\".replace(' ', '+')\n",
    "    url = f\"https://www.google.com/search?q=site:{website}+{query}\"\n",
    "    \n",
    "    # Send the HTTP request\n",
    "    response = requests.get(url)\n",
    "    \n",
    "    # Parse the HTML content\n",
    "    soup = BeautifulSoup(response.text, 'html.parser')\n",
    "    \n",
    "    # Find all the search result links\n",
    "    links = soup.find_all('a')\n",
    "    \n",
    "    # Extract the first link\n",
    "    for link in links:\n",
    "        href = link.get('href')\n",
    "        if \"url?q=\" in href and not \"webcache\" in href:\n",
    "            # Clean the URL\n",
    "            clean_url = href.split(\"url?q=\")[1].split(\"&sa=U\")[0]\n",
    "            if website in clean_url:\n",
    "                return clean_url\n",
    "    return \"No link found\"\n",
    "\n",
    "\n",
    "lyrics_website = \"https://lyrics.lyricfind.com\"\n",
    "\n",
    "webbrowser.open(find_lyrics_link(lyrics_website, 'Elton John', 'Candle in the Wind'))\n",
    "\n",
    "print(find_lyrics_link('https://lyrics.lyricfind.com', 'Elton John', 'Candle in the Wind'))\n"
   ]
  },
  {
   "cell_type": "code",
   "execution_count": null,
   "metadata": {},
   "outputs": [],
   "source": [
    "\n",
    "https://www.google.com/search?q=site:{'https://lyrics.lyricfind.com'}+{'Elton John - Candle in the Wind'}\n"
   ]
  },
  {
   "cell_type": "code",
   "execution_count": 1,
   "metadata": {},
   "outputs": [
    {
     "name": "stdout",
     "output_type": "stream",
     "text": [
      "https://www.google.com/search?q=site:https://lyrics.lyricfind.com+Elton+John+-+Candle+in+the+Wind\n"
     ]
    }
   ],
   "source": [
    "site = \"https://lyrics.lyricfind.com\"\n",
    "song = \"Elton John - Candle in the Wind\"\n",
    "url = \"https://www.google.com/search?q=site:{}+{}\".format(site, song.replace(' ', '+'))\n",
    "\n",
    "print(url)"
   ]
  },
  {
   "cell_type": "code",
   "execution_count": null,
   "metadata": {},
   "outputs": [],
   "source": []
  }
 ],
 "metadata": {
  "kernelspec": {
   "display_name": "colections_lyrics_songs",
   "language": "python",
   "name": "python3"
  },
  "language_info": {
   "codemirror_mode": {
    "name": "ipython",
    "version": 3
   },
   "file_extension": ".py",
   "mimetype": "text/x-python",
   "name": "python",
   "nbconvert_exporter": "python",
   "pygments_lexer": "ipython3",
   "version": "3.11.8"
  }
 },
 "nbformat": 4,
 "nbformat_minor": 2
}
